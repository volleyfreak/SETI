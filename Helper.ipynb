{
 "cells": [
  {
   "cell_type": "code",
   "execution_count": 2,
   "metadata": {
    "collapsed": true
   },
   "outputs": [],
   "source": [
    "i = 0\n",
    "import shutil\n",
    "from pathlib import Path\n",
    "import pandas as pd\n",
    "\n",
    "train = pd.read_csv('./seti-breakthrough-listen/train_labels.csv')\n",
    "\n",
    "train['img_path']=train['id'].apply(lambda x:f'./seti-breakthrough-listen/train/{x[0]}/{x}.npy')\n",
    "train.head()\n",
    "for i in range(0, 5000):\n",
    "    alien = train.loc[train['target'] == 1].iloc[i]\n",
    "    shutil.copyfile(alien.img_path, './seti-breakthrough-listen/torchvision_data/alien/'+alien.id+'.npy')\n",
    "    no_alien = train.loc[train['target'] == 0].iloc[i]\n",
    "    shutil.copyfile(no_alien.img_path, './seti-breakthrough-listen/torchvision_data/no_alien/'+no_alien.id+'.npy')\n",
    "# for i in range(len(filenames)):\n",
    "#     if train_test[i] != '0':\n",
    "#         my_file = Path(''images/'+ filenames[i]')\n",
    "#         if my_file.is_file():\n",
    "#             if len(sps[i]) == 0:\n",
    "#                 shutil.copyfile('images/'+ filenames[i], 'data/0/'+filenames[i])\n",
    "#             elif len(sps[i]) == 1:\n",
    "#                 shutil.copyfile('images/'+ filenames[i], 'data/1/'+filenames[i])\n",
    "#             else :\n",
    "#                 shutil.copyfile('images/'+ filenames[i], 'data/2/'+filenames[i])"
   ]
  }
 ],
 "metadata": {
  "kernelspec": {
   "display_name": "Python 3",
   "language": "python",
   "name": "python3"
  },
  "language_info": {
   "codemirror_mode": {
    "name": "ipython",
    "version": 2
   },
   "file_extension": ".py",
   "mimetype": "text/x-python",
   "name": "python",
   "nbconvert_exporter": "python",
   "pygments_lexer": "ipython2",
   "version": "2.7.6"
  }
 },
 "nbformat": 4,
 "nbformat_minor": 0
}