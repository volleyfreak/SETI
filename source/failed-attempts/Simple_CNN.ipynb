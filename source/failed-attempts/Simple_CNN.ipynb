{
  "nbformat": 4,
  "nbformat_minor": 0,
  "metadata": {
    "colab": {
      "name": "Simple_CNN",
      "provenance": [],
      "collapsed_sections": [],
      "include_colab_link": true
    },
    "kernelspec": {
      "display_name": "Python 3",
      "name": "python3"
    },
    "accelerator": "GPU"
  },
  "cells": [
    {
      "cell_type": "markdown",
      "metadata": {
        "id": "view-in-github",
        "colab_type": "text"
      },
      "source": [
        "<a href=\"https://colab.research.google.com/github/volleyfreak/SETI/blob/main/Simple_CNN.ipynb\" target=\"_parent\"><img src=\"https://colab.research.google.com/assets/colab-badge.svg\" alt=\"Open In Colab\"/></a>"
      ]
    },
    {
      "cell_type": "code",
      "metadata": {
        "id": "4w7rDoJpiSTA",
        "colab": {
          "base_uri": "https://localhost:8080/"
        },
        "outputId": "c55c5198-1259-4900-9dd1-7e2a67a2fd5d"
      },
      "source": [
        "from google.colab import drive\n",
        "drive.mount('/content/drive')"
      ],
      "execution_count": null,
      "outputs": [
        {
          "output_type": "stream",
          "name": "stdout",
          "text": [
            "Drive already mounted at /content/drive; to attempt to forcibly remount, call drive.mount(\"/content/drive\", force_remount=True).\n"
          ]
        }
      ]
    },
    {
      "cell_type": "code",
      "metadata": {
        "id": "upxZ_8y2XiXD"
      },
      "source": [
        "import torch\n",
        "import torchvision\n",
        "from torchvision import datasets, transforms\n",
        "import pandas as pd\n",
        "import numpy as np"
      ],
      "execution_count": null,
      "outputs": []
    },
    {
      "cell_type": "code",
      "metadata": {
        "id": "Hr2YgDx2Xnni"
      },
      "source": [
        "transform = transforms.Compose([#transforms.RandomRotation(30),  # data augmentations are great\n",
        "                                       #transforms.RandomResizedCrop(224),  # but not in this case of map tiles\n",
        "                                       #transforms.RandomHorizontalFlip(),\n",
        "                                       transforms.Resize(50),\n",
        "                                       #transforms.ToTensor(),\n",
        "                                       #transforms.Normalize([0.485, 0.456, 0.406], # PyTorch recommends these but in this\n",
        "                                       #                     [0.229, 0.224, 0.225]) # case I didn't get good results\n",
        "                                       ])\n",
        "batch_size = 4\n",
        "def npy_loader(path):\n",
        "    sample = torch.from_numpy(np.load(path))\n",
        "    return sample\n",
        "\n",
        "\n",
        "dataset = datasets.DatasetFolder(\n",
        "    root='./drive/MyDrive/Colab Notebooks/',\n",
        "    loader=npy_loader,\n",
        "    extensions=('.npy'),\n",
        "    transform=transform\n",
        ")"
      ],
      "execution_count": null,
      "outputs": []
    },
    {
      "cell_type": "code",
      "metadata": {
        "id": "lVsbt6K9X0H0",
        "colab": {
          "base_uri": "https://localhost:8080/"
        },
        "outputId": "466216fb-8953-4490-abc6-de8f80053364"
      },
      "source": [
        "\n",
        "\n",
        "\n",
        "valid_size = .2\n",
        "num_train = len(dataset)\n",
        "indices = list(range(num_train))\n",
        "split = int(np.floor(valid_size * num_train))\n",
        "np.random.shuffle(indices)\n",
        "\n",
        "from torch.utils.data.sampler import SubsetRandomSampler\n",
        "train_idx, test_idx = indices[split:], indices[:split]\n",
        "train_sampler = SubsetRandomSampler(train_idx)\n",
        "test_sampler = SubsetRandomSampler(test_idx)\n",
        "trainloader = torch.utils.data.DataLoader(dataset, sampler=train_sampler, batch_size=1)\n",
        "testloader = torch.utils.data.DataLoader(dataset, sampler=test_sampler, batch_size=1)\n",
        "\n",
        "# testset = torchvision.datasets.CIFAR10(root='./data', train=False,\n",
        "#                                        download=True, transform=transform)\n",
        "# testloader = torch.utils.data.DataLoader(testset, batch_size=batch_size,\n",
        "#                                          shuffle=False, num_workers=2)\n",
        "#\n",
        "classes = ('alien', 'no_alien')\n",
        "import matplotlib.pyplot as plt\n",
        "import numpy as npy_loader\n",
        "print(testloader)"
      ],
      "execution_count": null,
      "outputs": [
        {
          "output_type": "stream",
          "name": "stdout",
          "text": [
            "<torch.utils.data.dataloader.DataLoader object at 0x7fd2077b7f90>\n"
          ]
        }
      ]
    },
    {
      "cell_type": "code",
      "metadata": {
        "id": "mDewCIPuX453"
      },
      "source": [
        "import torch.nn as nn\n",
        "import torch.nn.functional as F\n",
        "\n",
        "\n",
        "class Net(nn.Module):\n",
        "    def __init__(self):\n",
        "        super().__init__()\n",
        "        self.conv1 = nn.Conv2d(3, 6, 5)\n",
        "        self.pool = nn.MaxPool2d(2, 2)\n",
        "        self.conv2 = nn.Conv2d(6, 16, 5)\n",
        "        self.fc1 = nn.Linear(1440, 200)\n",
        "        self.fc2 = nn.Linear(200, 30)\n",
        "        self.fc3 = nn.Linear(30, 2)\n",
        "\n",
        "    def forward(self, x):\n",
        "        x = self.pool(F.relu(self.conv1(x)))\n",
        "        x = self.pool(F.relu(self.conv2(x)))\n",
        "        x = torch.flatten(x, 1) # flatten all dimensions except batch\n",
        "        x = F.relu(self.fc1(x))\n",
        "        x = F.relu(self.fc2(x))\n",
        "        x = self.fc3(x)\n",
        "        return x\n",
        "\n",
        "\n",
        "net = Net()"
      ],
      "execution_count": null,
      "outputs": []
    },
    {
      "cell_type": "code",
      "metadata": {
        "id": "vM2u-kfFX7zU",
        "colab": {
          "base_uri": "https://localhost:8080/"
        },
        "outputId": "0072c61a-7445-4bd3-d338-7c209476bd37"
      },
      "source": [
        "import torch.optim as optim\n",
        "criterion = nn.CrossEntropyLoss()\n",
        "optimizer = optim.SGD(net.parameters(), lr=0.001, momentum=0.9)\n",
        "#model.cuda()\n",
        "# optimizer.to('gpu')\n",
        "\n",
        "# get some random training images\n",
        "dataiter = iter(trainloader)\n",
        "images, labels = dataiter.next()\n",
        "#print(len(labels[0]))\n",
        "print(labels[0])\n",
        "print('GroundTruth: ', ' '.join('%5s' % classes[labels[j]] for j in range(1)))"
      ],
      "execution_count": null,
      "outputs": [
        {
          "output_type": "stream",
          "name": "stdout",
          "text": [
            "tensor(0)\n",
            "GroundTruth:  alien\n"
          ]
        }
      ]
    },
    {
      "cell_type": "code",
      "metadata": {
        "id": "CBWFlsVIZGq3",
        "colab": {
          "base_uri": "https://localhost:8080/"
        },
        "outputId": "cb0c7d18-c617-4950-8e33-bc4f3c70d785"
      },
      "source": [
        "print(images.shape)"
      ],
      "execution_count": null,
      "outputs": [
        {
          "output_type": "stream",
          "name": "stdout",
          "text": [
            "torch.Size([1, 6, 53, 50])\n"
          ]
        }
      ]
    },
    {
      "cell_type": "code",
      "metadata": {
        "id": "BUTfCOayX-Id",
        "colab": {
          "base_uri": "https://localhost:8080/"
        },
        "outputId": "3bbf1a3c-cab7-49af-8a67-2bb7ece16cd5"
      },
      "source": [
        "#device = torch.device(\"cuda:0\" if torch.cuda.is_available() else \"cpu\")\n",
        "device = \"cuda\"\n",
        "print(device)\n",
        "net.to(device)\n",
        "net.cuda()\n",
        "torch.cuda.empty_cache()\n",
        "for epoch in range(5):  # loop over the dataset multiple times\n",
        "\n",
        "    running_loss = 0.0\n",
        "    for i, data in enumerate(trainloader, 0):\n",
        "        # get the inputs; data is a list of [inputs, labels]\n",
        "        data[0] = np.take(data[0][0], [0,2,4], 0)\n",
        "        inputs, labels = data[0].to(device), data[1].to(device)\n",
        "        inputs, labels = inputs.to(device), labels.to(device)\n",
        "        inputs = inputs.float()\n",
        "        inputs = inputs.unsqueeze(0)\n",
        "        \n",
        "        # zero the parameter gradients\n",
        "        optimizer.zero_grad()\n",
        "\n",
        "        # forward + backward + optimize\n",
        "        outputs = net(inputs)\n",
        "        loss = criterion(outputs, labels)\n",
        "        loss.backward()\n",
        "        optimizer.step()\n",
        "        \n",
        "        # print statistics\n",
        "        running_loss += loss.item()\n",
        "        if i % 2000 == 1999:    # print every 2000 mini-batches\n",
        "            print('[%d, %5d] loss: %.3f' %\n",
        "                  (epoch + 1, i + 1, running_loss / 2000))\n",
        "            running_loss = 0.0\n",
        "print('Finished Training')"
      ],
      "execution_count": null,
      "outputs": [
        {
          "output_type": "stream",
          "name": "stdout",
          "text": [
            "cuda\n",
            "[1,  2000] loss: 0.695\n",
            "[1,  4000] loss: 0.695\n",
            "[1,  6000] loss: 0.694\n",
            "[1,  8000] loss: 0.695\n",
            "[2,  2000] loss: 0.695\n",
            "[2,  4000] loss: 0.693\n",
            "[2,  6000] loss: 0.695\n",
            "[2,  8000] loss: 0.693\n",
            "[3,  2000] loss: 0.694\n",
            "[3,  4000] loss: 0.694\n",
            "[3,  6000] loss: 0.693\n",
            "[3,  8000] loss: 0.693\n",
            "[4,  2000] loss: 0.693\n",
            "[4,  4000] loss: 0.694\n",
            "[4,  6000] loss: 0.694\n",
            "[4,  8000] loss: 0.694\n",
            "[5,  2000] loss: 0.694\n",
            "[5,  4000] loss: 0.694\n",
            "[5,  6000] loss: 0.693\n",
            "[5,  8000] loss: 0.695\n",
            "Finished Training\n"
          ]
        }
      ]
    },
    {
      "cell_type": "code",
      "metadata": {
        "id": "Gvnx9G1V2-4v",
        "colab": {
          "base_uri": "https://localhost:8080/"
        },
        "outputId": "2554f9c2-41b7-4573-8fa9-73256e35502a"
      },
      "source": [
        "correct = 0\n",
        "total = 0\n",
        "# since we're not training, we don't need to calculate the gradients for our outputs\n",
        "with torch.no_grad():\n",
        "    for data in testloader:\n",
        "        data[0] = np.take(data[0][0], [0,2,4], 0)\n",
        "        inputs, labels = data[0].to(device), data[1].to(device)\n",
        "        inputs, labels = inputs.to(device), labels.to(device)\n",
        "        inputs = inputs.float()\n",
        "        inputs = inputs.unsqueeze(0)\n",
        "        # calculate outputs by running images through the network\n",
        "        outputs = net(inputs)\n",
        "        # the class with the highest energy is what we choose as prediction\n",
        "        _, predicted = torch.max(outputs.data, 1)\n",
        "        total += labels.size(0)\n",
        "        correct += (predicted == labels).sum().item()\n",
        "\n",
        "print(f'Accuracy of the network on the {len(test_idx)} test images: %d %%' % (\n",
        "    100 * correct / total))"
      ],
      "execution_count": null,
      "outputs": [
        {
          "output_type": "stream",
          "name": "stdout",
          "text": [
            "Accuracy of the network on the 2000 test images: 49 %\n"
          ]
        }
      ]
    }
  ]
}